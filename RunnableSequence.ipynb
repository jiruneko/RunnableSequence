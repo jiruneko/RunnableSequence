{
  "nbformat": 4,
  "nbformat_minor": 0,
  "metadata": {
    "colab": {
      "provenance": [],
      "authorship_tag": "ABX9TyOKi4nrBQK0LPgZ3tKz2LOy",
      "include_colab_link": true
    },
    "kernelspec": {
      "name": "python3",
      "display_name": "Python 3"
    },
    "language_info": {
      "name": "python"
    }
  },
  "cells": [
    {
      "cell_type": "markdown",
      "metadata": {
        "id": "view-in-github",
        "colab_type": "text"
      },
      "source": [
        "<a href=\"https://colab.research.google.com/github/jiruneko/RunnableSequence/blob/main/RunnableSequence.ipynb\" target=\"_parent\"><img src=\"https://colab.research.google.com/assets/colab-badge.svg\" alt=\"Open In Colab\"/></a>"
      ]
    },
    {
      "cell_type": "code",
      "execution_count": null,
      "metadata": {
        "colab": {
          "base_uri": "https://localhost:8080/"
        },
        "id": "MLu2_D_cZZAL",
        "outputId": "285a187f-c534-435b-c9e8-5a807058d2ed"
      },
      "outputs": [
        {
          "output_type": "stream",
          "name": "stdout",
          "text": [
            "\u001b[?25l   \u001b[90m━━━━━━━━━━━━━━━━━━━━━━━━━━━━━━━━━━━━━━━━\u001b[0m \u001b[32m0.0/74.5 kB\u001b[0m \u001b[31m?\u001b[0m eta \u001b[36m-:--:--\u001b[0m\r\u001b[2K   \u001b[90m━━━━━━━━━━━━━━━━━━━━━━━━━━━━━━━━━━━━━━━━\u001b[0m \u001b[32m74.5/74.5 kB\u001b[0m \u001b[31m4.7 MB/s\u001b[0m eta \u001b[36m0:00:00\u001b[0m\n",
            "\u001b[?25h\u001b[?25l   \u001b[90m━━━━━━━━━━━━━━━━━━━━━━━━━━━━━━━━━━━━━━━━\u001b[0m \u001b[32m0.0/810.8 kB\u001b[0m \u001b[31m?\u001b[0m eta \u001b[36m-:--:--\u001b[0m\r\u001b[2K   \u001b[91m━━━━━━━━━━━━━━━━━━━━━━━━━━━━━━━━━━━━━━━\u001b[0m\u001b[91m╸\u001b[0m \u001b[32m809.0/810.8 kB\u001b[0m \u001b[31m38.5 MB/s\u001b[0m eta \u001b[36m0:00:01\u001b[0m\r\u001b[2K   \u001b[90m━━━━━━━━━━━━━━━━━━━━━━━━━━━━━━━━━━━━━━━━\u001b[0m \u001b[32m810.8/810.8 kB\u001b[0m \u001b[31m14.8 MB/s\u001b[0m eta \u001b[36m0:00:00\u001b[0m\n",
            "\u001b[?25h"
          ]
        }
      ],
      "source": [
        "!pip -q install --upgrade langchain langchain-openai openai tiktoken"
      ]
    },
    {
      "cell_type": "code",
      "source": [
        "# Colabのシークレットから取得して環境変数へセット\n",
        "from google.colab import userdata\n",
        "import os\n",
        "\n",
        "api_key = userdata.get('OPENAI_API_KEY')\n",
        "assert api_key, \"Colabのシークレットに OPENAI_API_KEY を登録してください。\"\n",
        "os.environ['OPENAI_API_KEY'] = api_key\n",
        "\n",
        "print(\"OpenAI API キーは設定されています ✅\")  # 値は出しません"
      ],
      "metadata": {
        "colab": {
          "base_uri": "https://localhost:8080/"
        },
        "id": "z102YHWqcuHl",
        "outputId": "45e9196f-18ec-46e2-b6f6-89896790cf4e"
      },
      "execution_count": null,
      "outputs": [
        {
          "output_type": "stream",
          "name": "stdout",
          "text": [
            "OpenAI API キーは設定されています ✅\n"
          ]
        }
      ]
    },
    {
      "cell_type": "code",
      "source": [
        "import os\n",
        "\n",
        "# Colab に登録したシークレットを取得\n",
        "api_key = os.environ[\"OPENAI_API_KEY\"]\n",
        "\n",
        "from langchain_core.output_parsers import StrOutputParser\n",
        "from langchain_core.prompts import ChatPromptTemplate\n",
        "from langchain_openai import ChatOpenAI\n",
        "\n",
        "prompt = ChatPromptTemplate.from_messages(\n",
        "    [\n",
        "        (\"system\", \"ユーザーが入力した料理のレシピを考えてください。\"),\n",
        "        (\"human\", \"{dish}\"),\n",
        "    ]\n",
        ")\n",
        "\n",
        "model = ChatOpenAI(model=\"gpt-4o-mini\", temperature=0)\n",
        "\n",
        "output_parser = StrOutputParser()"
      ],
      "metadata": {
        "id": "ZJ6pxjzvZcAP"
      },
      "execution_count": null,
      "outputs": []
    },
    {
      "cell_type": "code",
      "source": [
        "prompt_value = prompt.invoke({\"dish\": \"カレー\"})\n",
        "ai_message = model.invoke(prompt_value)\n",
        "output = output_parser.invoke(ai_message)\n",
        "print(output)"
      ],
      "metadata": {
        "id": "q-fdNa5_Ztso",
        "colab": {
          "base_uri": "https://localhost:8080/"
        },
        "outputId": "edbc1d91-2836-4c7d-b9de-647b098b8782"
      },
      "execution_count": null,
      "outputs": [
        {
          "output_type": "stream",
          "name": "stdout",
          "text": [
            "カレーのレシピをご紹介します！こちらは基本的なチキンカレーのレシピです。\n",
            "\n",
            "### 材料（4人分）\n",
            "- 鶏もも肉：400g\n",
            "- 玉ねぎ：2個\n",
            "- にんじん：1本\n",
            "- じゃがいも：2個\n",
            "- カレールー：1箱（約200g）\n",
            "- サラダ油：大さじ2\n",
            "- 水：600ml\n",
            "- 塩：適量\n",
            "- 胡椒：適量\n",
            "- お好みでガーリックパウダーや生姜：少々\n",
            "\n",
            "### 作り方\n",
            "1. **下ごしらえ**：\n",
            "   - 鶏もも肉は一口大に切り、塩と胡椒を振って下味をつけます。\n",
            "   - 玉ねぎは薄切り、にんじんは輪切り、じゃがいもは一口大に切ります。\n",
            "\n",
            "2. **炒める**：\n",
            "   - 大きめの鍋にサラダ油を熱し、玉ねぎを中火で炒めます。玉ねぎが透明になるまで炒めます。\n",
            "   - 鶏肉を加え、表面が白くなるまで炒めます。\n",
            "\n",
            "3. **野菜を加える**：\n",
            "   - にんじんとじゃがいもを鍋に加え、全体をよく混ぜます。\n",
            "\n",
            "4. **煮る**：\n",
            "   - 水を加え、沸騰したらアクを取り除きます。蓋をして中火で約15分煮ます。\n",
            "\n",
            "5. **カレールーを加える**：\n",
            "   - カレールーを割り入れ、よく溶かします。さらに10分ほど煮込み、全体がなじんだら火を止めます。\n",
            "\n",
            "6. **味を調える**：\n",
            "   - お好みでガーリックパウダーや生姜を加え、味を調整します。\n",
            "\n",
            "7. **盛り付け**：\n",
            "   - ご飯と一緒に盛り付けて、お好みでパセリや福神漬けを添えて完成です！\n",
            "\n",
            "### おすすめのトッピング\n",
            "- 煮卵\n",
            "- チーズ\n",
            "- ナンやライス\n",
            "\n",
            "このレシピを参考に、ぜひ美味しいカレーを作ってみてください！お好みで具材を変えたり、辛さを調整したりして楽しんでくださいね。\n"
          ]
        }
      ]
    },
    {
      "cell_type": "code",
      "source": [
        "chain = prompt | model | output_parser\n",
        "output = chain.invoke({\"dish\": \"カレー\"})"
      ],
      "metadata": {
        "id": "XnOzrCI8d1IF"
      },
      "execution_count": null,
      "outputs": []
    }
  ]
}